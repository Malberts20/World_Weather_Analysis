{
 "cells": [
  {
   "cell_type": "code",
   "execution_count": 5,
   "metadata": {},
   "outputs": [],
   "source": [
    "# Dependencies and Setup\n",
    "import requests\n",
    "import gmaps\n",
    "\n",
    "# Import API key\n",
    "from config import g_key"
   ]
  },
  {
   "cell_type": "code",
   "execution_count": 9,
   "metadata": {},
   "outputs": [],
   "source": [
    "# Set the parameters to search for a hotel in Paris.\n",
    "params = {\n",
    "    \"radius\": 5000,\n",
    "    \"types\": \"lodging\",\n",
    "    \"key\": g_key,\n",
    "    \"location\": \"2.78,45.50\"}\n",
    "# Use base URL to search for hotels in Paris.\n",
    "base_url = \"https://maps.googleapis.com/maps/api/place/nearbysearch/json\"\n",
    "# Make request and get the JSON data from the search.\n",
    "hotels = requests.get(base_url, params=params).json()"
   ]
  },
  {
   "cell_type": "code",
   "execution_count": 10,
   "metadata": {},
   "outputs": [
    {
     "data": {
      "text/plain": [
       "7"
      ]
     },
     "execution_count": 10,
     "metadata": {},
     "output_type": "execute_result"
    }
   ],
   "source": [
    "len(hotels[\"results\"])"
   ]
  },
  {
   "cell_type": "code",
   "execution_count": 11,
   "metadata": {},
   "outputs": [
    {
     "data": {
      "text/plain": [
       "{'html_attributions': [],\n",
       " 'results': [{'business_status': 'OPERATIONAL',\n",
       "   'geometry': {'location': {'lat': 2.7809922, 'lng': 45.5025585},\n",
       "    'viewport': {'northeast': {'lat': 2.782225080291502,\n",
       "      'lng': 45.5039140302915},\n",
       "     'southwest': {'lat': 2.779527119708499, 'lng': 45.50121606970851}}},\n",
       "   'icon': 'https://maps.gstatic.com/mapfiles/place_api/icons/v1/png_71/lodging-71.png',\n",
       "   'name': 'cosoble spare parts',\n",
       "   'place_id': 'ChIJ9UUZ0sEvXz0RHXcU8wnL58o',\n",
       "   'plus_code': {'compound_code': 'QGJ3+92 Jowhaar, Somalia',\n",
       "    'global_code': '6HJ7QGJ3+92'},\n",
       "   'reference': 'ChIJ9UUZ0sEvXz0RHXcU8wnL58o',\n",
       "   'scope': 'GOOGLE',\n",
       "   'types': ['lodging', 'point_of_interest', 'establishment'],\n",
       "   'vicinity': 'Jowhaar'},\n",
       "  {'business_status': 'OPERATIONAL',\n",
       "   'geometry': {'location': {'lat': 2.7802136, 'lng': 45.502983},\n",
       "    'viewport': {'northeast': {'lat': 2.781580580291502,\n",
       "      'lng': 45.5042839302915},\n",
       "     'southwest': {'lat': 2.778882619708498, 'lng': 45.50158596970851}}},\n",
       "   'icon': 'https://maps.gstatic.com/mapfiles/place_api/icons/v1/png_71/lodging-71.png',\n",
       "   'name': 'SAABIR HOTEL',\n",
       "   'place_id': 'ChIJi0vMSZIvXz0RQZhn00Y-zfs',\n",
       "   'plus_code': {'compound_code': 'QGJ3+35 Jowhaar, Somalia',\n",
       "    'global_code': '6HJ7QGJ3+35'},\n",
       "   'reference': 'ChIJi0vMSZIvXz0RQZhn00Y-zfs',\n",
       "   'scope': 'GOOGLE',\n",
       "   'types': ['lodging', 'point_of_interest', 'establishment'],\n",
       "   'vicinity': 'Kulmis'},\n",
       "  {'business_status': 'OPERATIONAL',\n",
       "   'geometry': {'location': {'lat': 2.7774231, 'lng': 45.5016253},\n",
       "    'viewport': {'northeast': {'lat': 2.778721980291502,\n",
       "      'lng': 45.5030380302915},\n",
       "     'southwest': {'lat': 2.776024019708498, 'lng': 45.5003400697085}}},\n",
       "   'icon': 'https://maps.gstatic.com/mapfiles/place_api/icons/v1/png_71/lodging-71.png',\n",
       "   'name': 'Ceelbaraf high school',\n",
       "   'place_id': 'ChIJpZL2btAvXz0RG3bd4znSoyA',\n",
       "   'plus_code': {'compound_code': 'QGG2+XM Jowhaar, Somalia',\n",
       "    'global_code': '6HJ7QGG2+XM'},\n",
       "   'reference': 'ChIJpZL2btAvXz0RG3bd4znSoyA',\n",
       "   'scope': 'GOOGLE',\n",
       "   'types': ['lodging', 'point_of_interest', 'establishment'],\n",
       "   'vicinity': 'Jowhaar'},\n",
       "  {'business_status': 'OPERATIONAL',\n",
       "   'geometry': {'location': {'lat': 2.7774231, 'lng': 45.5016253},\n",
       "    'viewport': {'northeast': {'lat': 2.778721980291502,\n",
       "      'lng': 45.5030380302915},\n",
       "     'southwest': {'lat': 2.776024019708498, 'lng': 45.5003400697085}}},\n",
       "   'icon': 'https://maps.gstatic.com/mapfiles/place_api/icons/v1/png_71/lodging-71.png',\n",
       "   'name': 'SUUBIYE HOTEL AND RESTAURANT',\n",
       "   'photos': [{'height': 640,\n",
       "     'html_attributions': ['<a href=\"https://maps.google.com/maps/contrib/112645300257649269335\">Suubiye Boyka</a>'],\n",
       "     'photo_reference': 'CmRaAAAAYj6ZGLiLrMbHTUXZxW5NHxKI9lxhLqok7k32bUOwYB7wZGKlB03r8WWa8wzvy2j9P6tR9byRZ0ESXC8ZMm0R2cGnpbrO6DmP7XkSu4GUsoopi73L-naWu2e_46_tjHbkEhAQLaaHWjtxOecfOaxa8zcGGhTZE9L_S6ElBKxokoxnLRf29buXFw',\n",
       "     'width': 1365}],\n",
       "   'place_id': 'ChIJV2rfdaAvXz0RmQ5gaRRiWtg',\n",
       "   'plus_code': {'compound_code': 'QGG2+XM Jowhaar, Somalia',\n",
       "    'global_code': '6HJ7QGG2+XM'},\n",
       "   'rating': 4.9,\n",
       "   'reference': 'ChIJV2rfdaAvXz0RmQ5gaRRiWtg',\n",
       "   'scope': 'GOOGLE',\n",
       "   'types': ['lodging', 'point_of_interest', 'establishment'],\n",
       "   'user_ratings_total': 9,\n",
       "   'vicinity': 'Jowhaar'},\n",
       "  {'business_status': 'OPERATIONAL',\n",
       "   'geometry': {'location': {'lat': 2.7774231, 'lng': 45.5016253},\n",
       "    'viewport': {'northeast': {'lat': 2.778721980291502,\n",
       "      'lng': 45.5030380302915},\n",
       "     'southwest': {'lat': 2.776024019708498, 'lng': 45.5003400697085}}},\n",
       "   'icon': 'https://maps.gstatic.com/mapfiles/place_api/icons/v1/png_71/lodging-71.png',\n",
       "   'name': 'Xaafadda Aboole',\n",
       "   'opening_hours': {'open_now': False},\n",
       "   'photos': [{'height': 800,\n",
       "     'html_attributions': ['<a href=\"https://maps.google.com/maps/contrib/106669910780448745398\">Mohamed Abdulahi</a>'],\n",
       "     'photo_reference': 'CmRaAAAAeZzG_W8VUjNrEdMTLqDvrLuDrfJVEcPdXzc041rNucrj3B74d9HehMtyjjljSKlMgPEqnfsa9cMqqVGlZ8ZkErETbbQM5axQB0YKehZrjGyz8YRo93Ii8lA1WqWn1t7wEhAV1jzeu3EqccWRiIr_bffsGhSlrKf74DyG39j_1QDPorM8bN2PtA',\n",
       "     'width': 480}],\n",
       "   'place_id': 'ChIJAQAAAGwvXz0R3VYTSt_qtJ0',\n",
       "   'plus_code': {'compound_code': 'QGG2+XM Jowhaar, Somalia',\n",
       "    'global_code': '6HJ7QGG2+XM'},\n",
       "   'rating': 3.2,\n",
       "   'reference': 'ChIJAQAAAGwvXz0R3VYTSt_qtJ0',\n",
       "   'scope': 'GOOGLE',\n",
       "   'types': ['lodging', 'point_of_interest', 'establishment'],\n",
       "   'user_ratings_total': 10,\n",
       "   'vicinity': 'Jowhaar'},\n",
       "  {'business_status': 'OPERATIONAL',\n",
       "   'geometry': {'location': {'lat': 2.7843155, 'lng': 45.49985650000001},\n",
       "    'viewport': {'northeast': {'lat': 2.785660730291502,\n",
       "      'lng': 45.5012048802915},\n",
       "     'southwest': {'lat': 2.782962769708498, 'lng': 45.4985069197085}}},\n",
       "   'icon': 'https://maps.gstatic.com/mapfiles/place_api/icons/v1/png_71/lodging-71.png',\n",
       "   'name': 'Safa hotel jowhar somalia',\n",
       "   'photos': [{'height': 1960,\n",
       "     'html_attributions': ['<a href=\"https://maps.google.com/maps/contrib/103156823294545103029\">Mohiadin Eyow</a>'],\n",
       "     'photo_reference': 'CmRaAAAAwIoEVIAVomuSvPY4vxPUzq1bi4xdAHRiIRPPZUboonV6Qd9FcIcT73eTt-L2C27vMUqEi8SM2NapFn-0o99oCfV9OUKEjU2cJ8S_KrXZnjnpmiaL98AOWp6J6x6NxdydEhAn0kPftab7EX3XsB1FcBdqGhS8EBK_Cx84sExgUIk5L2DY3KgB6A',\n",
       "     'width': 4032}],\n",
       "   'place_id': 'ChIJZ6tp3_AvXz0RRHuCSuDOoM0',\n",
       "   'plus_code': {'compound_code': 'QFMX+PW Jowhaar, Somalia',\n",
       "    'global_code': '6HJ7QFMX+PW'},\n",
       "   'rating': 5,\n",
       "   'reference': 'ChIJZ6tp3_AvXz0RRHuCSuDOoM0',\n",
       "   'scope': 'GOOGLE',\n",
       "   'types': ['lodging', 'point_of_interest', 'establishment'],\n",
       "   'user_ratings_total': 4,\n",
       "   'vicinity': 'Jowhaar'},\n",
       "  {'business_status': 'OPERATIONAL',\n",
       "   'geometry': {'location': {'lat': 2.784126, 'lng': 45.498447},\n",
       "    'viewport': {'northeast': {'lat': 2.785473430291501,\n",
       "      'lng': 45.4998052802915},\n",
       "     'southwest': {'lat': 2.782775469708498, 'lng': 45.4971073197085}}},\n",
       "   'icon': 'https://maps.gstatic.com/mapfiles/place_api/icons/v1/png_71/lodging-71.png',\n",
       "   'name': 'cosoble villa',\n",
       "   'place_id': 'ChIJ44sJ9GIvXz0RTZW7R0uzKII',\n",
       "   'plus_code': {'compound_code': 'QFMX+M9 Jowhaar, Somalia',\n",
       "    'global_code': '6HJ7QFMX+M9'},\n",
       "   'rating': 5,\n",
       "   'reference': 'ChIJ44sJ9GIvXz0RTZW7R0uzKII',\n",
       "   'scope': 'GOOGLE',\n",
       "   'types': ['lodging', 'point_of_interest', 'establishment'],\n",
       "   'user_ratings_total': 1,\n",
       "   'vicinity': 'Unnamed Road, Jowhaar'}],\n",
       " 'status': 'OK'}"
      ]
     },
     "execution_count": 11,
     "metadata": {},
     "output_type": "execute_result"
    }
   ],
   "source": [
    "hotels"
   ]
  },
  {
   "cell_type": "code",
   "execution_count": null,
   "metadata": {},
   "outputs": [],
   "source": []
  },
  {
   "cell_type": "code",
   "execution_count": null,
   "metadata": {},
   "outputs": [],
   "source": []
  },
  {
   "cell_type": "code",
   "execution_count": null,
   "metadata": {},
   "outputs": [],
   "source": []
  },
  {
   "cell_type": "code",
   "execution_count": null,
   "metadata": {},
   "outputs": [],
   "source": []
  },
  {
   "cell_type": "code",
   "execution_count": null,
   "metadata": {},
   "outputs": [],
   "source": []
  }
 ],
 "metadata": {
  "kernelspec": {
   "display_name": "PythonData",
   "language": "python",
   "name": "pythondata"
  },
  "language_info": {
   "codemirror_mode": {
    "name": "ipython",
    "version": 3
   },
   "file_extension": ".py",
   "mimetype": "text/x-python",
   "name": "python",
   "nbconvert_exporter": "python",
   "pygments_lexer": "ipython3",
   "version": "3.7.7"
  }
 },
 "nbformat": 4,
 "nbformat_minor": 4
}
